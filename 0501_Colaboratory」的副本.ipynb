{
  "cells": [
    {
      "cell_type": "markdown",
      "metadata": {
        "id": "view-in-github",
        "colab_type": "text"
      },
      "source": [
        "<a href=\"https://colab.research.google.com/github/yywen913/Introduction-to-Computers/blob/main/0501_Colaboratory%E3%80%8D%E7%9A%84%E5%89%AF%E6%9C%AC.ipynb\" target=\"_parent\"><img src=\"https://colab.research.google.com/assets/colab-badge.svg\" alt=\"Open In Colab\"/></a>"
      ]
    },
    {
      "cell_type": "code",
      "source": [
        "print(\"Hello World\")"
      ],
      "metadata": {
        "id": "XsqOUN6EHP4w",
        "outputId": "d3639d36-1428-4166-cc55-2949d4cc2938",
        "colab": {
          "base_uri": "https://localhost:8080/"
        }
      },
      "execution_count": 1,
      "outputs": [
        {
          "output_type": "stream",
          "name": "stdout",
          "text": [
            "Hello World\n"
          ]
        }
      ]
    },
    {
      "cell_type": "code",
      "source": [
        "print(\"請輸入華氏c\")"
      ],
      "metadata": {
        "id": "bvnyptErHaiV",
        "outputId": "e1407d8f-20b1-4c4f-c600-3bf3c3522702",
        "colab": {
          "base_uri": "https://localhost:8080/"
        }
      },
      "execution_count": 11,
      "outputs": [
        {
          "output_type": "stream",
          "name": "stdout",
          "text": [
            "請輸入華氏c\n"
          ]
        }
      ]
    },
    {
      "cell_type": "code",
      "source": [
        "f=float(input())"
      ],
      "metadata": {
        "id": "beVQgWk7KwwL",
        "outputId": "7b0e144a-eec4-4949-8121-24bb1ca0e1ba",
        "colab": {
          "base_uri": "https://localhost:8080/"
        }
      },
      "execution_count": 12,
      "outputs": [
        {
          "name": "stdout",
          "output_type": "stream",
          "text": [
            "100\n"
          ]
        }
      ]
    },
    {
      "cell_type": "code",
      "source": [
        "c=(f-32)* 5/9"
      ],
      "metadata": {
        "id": "z3gvDr_KLKcg"
      },
      "execution_count": 13,
      "outputs": []
    },
    {
      "cell_type": "code",
      "source": [
        "print(\"攝氏=\"'%.1f'%c)"
      ],
      "metadata": {
        "id": "XkLxbN2ELRjA",
        "outputId": "ef0bf1ec-080f-4cfe-d30d-63a95a07f0f2",
        "colab": {
          "base_uri": "https://localhost:8080/"
        }
      },
      "execution_count": 14,
      "outputs": [
        {
          "output_type": "stream",
          "name": "stdout",
          "text": [
            "攝氏=37.8\n"
          ]
        }
      ]
    },
    {
      "cell_type": "code",
      "source": [
        "tmp=0"
      ],
      "metadata": {
        "id": "xhV2jLaKLe2K"
      },
      "execution_count": 21,
      "outputs": []
    },
    {
      "cell_type": "code",
      "source": [
        "for i in range(1,6): tmp+=i"
      ],
      "metadata": {
        "id": "teplhyD0Lleh"
      },
      "execution_count": 22,
      "outputs": []
    },
    {
      "cell_type": "code",
      "source": [
        "print('%d'%tmp)"
      ],
      "metadata": {
        "id": "TmbzraBkMslo",
        "outputId": "84630688-c0d2-4c87-e469-ff3fad25ee7a",
        "colab": {
          "base_uri": "https://localhost:8080/"
        }
      },
      "execution_count": 23,
      "outputs": [
        {
          "output_type": "stream",
          "name": "stdout",
          "text": [
            "15\n"
          ]
        }
      ]
    },
    {
      "cell_type": "code",
      "source": [
        "principal_sum=10000*(1+0.02)**6"
      ],
      "metadata": {
        "id": "miCa1hJRM0wX"
      },
      "execution_count": 24,
      "outputs": []
    },
    {
      "cell_type": "code",
      "source": [
        "print(\"本金和為:\")"
      ],
      "metadata": {
        "id": "B-3hjhzUNGgw",
        "outputId": "07dd4f34-2b75-4e0f-c8d7-d18be6defa22",
        "colab": {
          "base_uri": "https://localhost:8080/"
        }
      },
      "execution_count": 25,
      "outputs": [
        {
          "output_type": "stream",
          "name": "stdout",
          "text": [
            "本金和為:\n"
          ]
        }
      ]
    },
    {
      "cell_type": "code",
      "source": [
        "print(principal_sum)\n"
      ],
      "metadata": {
        "id": "Txtk2jW-NP8H",
        "outputId": "7e85f941-27f1-4d55-ddeb-4385515e63af",
        "colab": {
          "base_uri": "https://localhost:8080/"
        }
      },
      "execution_count": 26,
      "outputs": [
        {
          "output_type": "stream",
          "name": "stdout",
          "text": [
            "11261.62419264\n"
          ]
        }
      ]
    }
  ],
  "metadata": {
    "colab": {
      "provenance": [],
      "include_colab_link": true
    },
    "kernelspec": {
      "display_name": "Python 3",
      "name": "python3"
    }
  },
  "nbformat": 4,
  "nbformat_minor": 0
}